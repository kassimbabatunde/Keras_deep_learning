{
    "cells": [
        {
            "metadata": {},
            "cell_type": "code",
            "source": "#Building baseline keras model 100 epochs\nimport pandas as pd\nimport numpy as np\nimport keras\nfrom keras.models import Sequential\nfrom keras.layers import Dense\nfrom sklearn.model_selection import train_test_split\nfrom sklearn.metrics import mean_squared_error\n\nconcrete_data = pd.read_csv('https://cocl.us/concrete_data')\n\ndef baseline_regression_model(n_cols):\n    \n    \"\"\"\n    This function is use to create the model \n    baseline for keras sequential model with\n    one hidden layer of 10 nodes and a\n    ReLU activation function\n    \n    arg: none\n    return: model\n    \"\"\"\n    # Creating my baseline model by initializing the sequential model\n    model = Sequential()\n    \n    # Add the layer depth with the activation function for the model\n    model.add(Dense(10, activation='relu', input_shape=(n_cols,)))\n    model.add(Dense(1))\n    \n    model.compile(optimizer='adam', loss='mean_squared_error')\n    \n    return model\n\n\n\n    \nconcrete_data_columns = concrete_data.columns\nindep = concrete_data[concrete_data_columns[concrete_data_columns != 'Strength']]\ntarget = concrete_data['Strength']\ncount = 1\nmse_list = []\nwhile (count <= 50):\n    \n    #normalisation of data\n    indep_norm = (indep - indep.mean())/indep.std()\n    #train_Y_norm = (train_Y -train_Y.mean())/train_Y.std()\n\n    #split data into 70/30\n    train_X,test_X,train_Y,test_Y = train_test_split(indep_norm,target,test_size=0.3, random_state=42)\n\n    n_cols = train_X.shape[1]\n\n    my_model =  baseline_regression_model(n_cols)\n    my_model.fit(train_X,train_Y,validation_split=0.3, epochs=100, verbose=2)\n    y_pred = my_model.predict(test_X)\n    mse_value = mean_squared_error(test_Y,y_pred)\n    print(\"mean square error {}\".format(mse_value))\n    mse_list.append(mse_value)\n    count = count + 1\n\nprint(\"The list of 50 mean square errors {}\".format(np.round(mse_list,decimals=3)))\nmean_val = np.mean(np.round(mse_list,decimals=3))\nstd_val = np.std(np.round(mse_list,decimals=3))\nprint('The mean and standard deviation of the mean square error are: {} and {}'.format(np.round(mean_val,decimals=3),np.round(std_val,decimals=3)))",
            "execution_count": null,
            "outputs": []
        },
        {
            "metadata": {},
            "cell_type": "code",
            "source": "",
            "execution_count": null,
            "outputs": []
        }
    ],
    "metadata": {
        "kernelspec": {
            "name": "python3",
            "display_name": "Python 3.6",
            "language": "python"
        },
        "language_info": {
            "name": "python",
            "version": "3.6.9",
            "mimetype": "text/x-python",
            "codemirror_mode": {
                "name": "ipython",
                "version": 3
            },
            "pygments_lexer": "ipython3",
            "nbconvert_exporter": "python",
            "file_extension": ".py"
        }
    },
    "nbformat": 4,
    "nbformat_minor": 1
}